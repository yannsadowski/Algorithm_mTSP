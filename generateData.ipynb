{
 "cells": [
  {
   "cell_type": "code",
   "execution_count": 5,
   "metadata": {},
   "outputs": [],
   "source": [
    "import random\n",
    "from collections import deque\n",
    "import os\n",
    "\n",
    "def generate_city_distances(num_cities):\n",
    "    \n",
    "    # Generation of random coordinates for each city\n",
    "    city_coordinates = {}\n",
    "\n",
    "    for city_id in range(num_cities):\n",
    "        if city_id == 0:\n",
    "            x = 50\n",
    "            y = 50\n",
    "        else:\n",
    "            x = random.randint(0, 100)\n",
    "            y = random.randint(0, 100)\n",
    "        city_coordinates[city_id] = (x, y)\n",
    "    \n",
    "    # Calculation of distances between cities\n",
    "    city_distances = {}\n",
    "    for city1 in range(num_cities):\n",
    "        city_distances[city1] = {}\n",
    "        for city2 in range(num_cities):\n",
    "            if city1 == city2:\n",
    "                # Null distance for the same city (ignored in the graph)\n",
    "                distance = float('inf')  \n",
    "            else:\n",
    "                distance = calculate_distance(city_coordinates[city1], city_coordinates[city2])\n",
    "                    \n",
    "            city_distances[city1][city2] = distance\n",
    "    \n",
    "    # Exporting the distances in the desired format\n",
    "    output = \"NODE_COORD_SECTION\\n\"\n",
    "    for city_id, coordinates in city_coordinates.items():\n",
    "        x, y = coordinates\n",
    "        output += f\"{city_id} {x} {y}\\n\"\n",
    "    \n",
    "    output += \"EOF\\n\"\n",
    "    \n",
    "    return output\n",
    "\n",
    "\n",
    "def calculate_distance(coord1, coord2):\n",
    "    # Calculation of the Euclidean distance between two coordinates\n",
    "    x1, y1 = coord1\n",
    "    x2, y2 = coord2\n",
    "    distance = ((x1 - x2) ** 2 + (y1 - y2) ** 2) ** 0.5\n",
    "    return int(distance)\n"
   ]
  },
  {
   "cell_type": "code",
   "execution_count": 10,
   "metadata": {},
   "outputs": [],
   "source": [
    "num_cities = 200\n",
    "\n",
    "output = generate_city_distances(num_cities)\n",
    "\n",
    "\n",
    "file_path = os.path.join(\"data/data200\")\n",
    "with open(file_path, \"w\") as file:\n",
    "    # Write content to the file\n",
    "    file.write(output)\n",
    "\n"
   ]
  }
 ],
 "metadata": {
  "kernelspec": {
   "display_name": "pythonCESI",
   "language": "python",
   "name": "pythoncesi"
  },
  "language_info": {
   "codemirror_mode": {
    "name": "ipython",
    "version": 3
   },
   "file_extension": ".py",
   "mimetype": "text/x-python",
   "name": "python",
   "nbconvert_exporter": "python",
   "pygments_lexer": "ipython3",
   "version": "3.11.1"
  },
  "orig_nbformat": 4
 },
 "nbformat": 4,
 "nbformat_minor": 2
}
